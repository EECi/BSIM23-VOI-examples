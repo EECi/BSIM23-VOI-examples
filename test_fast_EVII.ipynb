{
 "cells": [
  {
   "cell_type": "code",
   "execution_count": 1,
   "metadata": {},
   "outputs": [],
   "source": [
    "import os\n",
    "import csv\n",
    "\n",
    "import numpy as np\n",
    "import scipy.stats as stats\n",
    "import numba\n",
    "from tqdm import tqdm\n",
    "\n",
    "from voi import compute_EVPI, compute_EVII\n",
    "\n",
    "from utils import cached"
   ]
  },
  {
   "cell_type": "code",
   "execution_count": 2,
   "metadata": {},
   "outputs": [],
   "source": [
    "np.random.seed(0) # seed sampling\n",
    "\n",
    "# 1. Define action space\n",
    "maintenance_freqs = np.arange(13) # number of maintenance operations per year\n",
    "\n",
    "# 2. Define sampling function for uncertain parameter(s)\n",
    "@numba.njit(fastmath=True)\n",
    "def discritise_samples(samples, discr_points):\n",
    "    return np.array([discr_points[np.argmin(np.abs(discr_points-s))] for s in samples])\n",
    "\n",
    "def fast_discritise_samples(samples, discr_points,bins):\n",
    "    return discr_points[np.digitize(samples,bins)]\n",
    "\n",
    "def prior_theta_sampler(n_samples):\n",
    "    \"\"\"Sample vectors of uncertain parameter values from prior distributions.\"\"\"\n",
    "\n",
    "    # set up parameters\n",
    "    # =================\n",
    "    # sample discretisation used to allow caching for compuational efficiency\n",
    "    discr_delta = 1e-2\n",
    "\n",
    "    # alpha - truncated Gaussian [0,1)\n",
    "    alpha_mu = 1e-2\n",
    "    alpha_sigma = 0.25\n",
    "    alpha_discr_points = np.arange(0,1-discr_delta,discr_delta)\n",
    "    # epsilon - log Normal\n",
    "    epsilon_mu = 0\n",
    "    epsilon_sigma = 0.1\n",
    "    epsilon_discr_points = np.arange(-1,1,discr_delta)\n",
    "    # SPF' - Gaussian\n",
    "    spf_dash_mu = 2.9\n",
    "    spf_dash_sigma = 0.167\n",
    "    spf_dash_discr_points = np.arange(2,4,discr_delta)\n",
    "    # elec unit cost (£/kWh) - Gaussian\n",
    "    elec_unit_cost_mu = 0.326\n",
    "    elec_unit_cost_sigma = 0.016\n",
    "    # annual load - Gaussian\n",
    "    annual_load_mu = 12560000\n",
    "    annual_load_sigma = 1358000\n",
    "\n",
    "    theta_matrix = np.vstack([\n",
    "        discritise_samples(stats.truncnorm(-1*alpha_mu/alpha_sigma,(1-alpha_mu)/alpha_sigma,loc=alpha_mu,scale=alpha_sigma).rvs(n_samples),alpha_discr_points), # alpha\n",
    "        discritise_samples(stats.norm(loc=epsilon_mu,scale=epsilon_sigma).rvs(n_samples),epsilon_discr_points), # epsilon\n",
    "        discritise_samples(stats.norm(loc=spf_dash_mu,scale=spf_dash_sigma).rvs(n_samples),spf_dash_discr_points), # spf_dash\n",
    "        stats.norm(loc=elec_unit_cost_mu,scale=elec_unit_cost_sigma).rvs(n_samples), # elec_unit_cost\n",
    "        stats.norm(loc=annual_load_mu,scale=annual_load_sigma).rvs(n_samples), # annual_load\n",
    "    ])\n",
    "    thetas = [theta_matrix[:,i] for i in range(theta_matrix.shape[1])] # unpack thetas\n",
    "\n",
    "    return thetas\n",
    "\n",
    "def simplified_prior_theta_sampler(n_samples):\n",
    "\n",
    "     # set up parameters\n",
    "    # =================\n",
    "    # sample discretisation used to allow caching for compuational efficiency\n",
    "    discr_delta = 1e-2\n",
    "\n",
    "    # alpha - truncated Gaussian [0,1)\n",
    "    alpha_mu = 1e-2\n",
    "    alpha_sigma = 0.25\n",
    "    alpha_discr_points = np.arange(0,1-discr_delta,discr_delta)\n",
    "    alpha_bins = np.array([-1*np.inf, *[np.mean(alpha_discr_points[i:i+2]) for i in range(len(alpha_discr_points)-1)], np.inf])\n",
    "    # epsilon - log Normal\n",
    "    epsilon_mu = 0\n",
    "    epsilon_sigma = 0.1\n",
    "    epsilon_discr_points = np.arange(-1,1,discr_delta)\n",
    "    epsilon_bins = np.array([-1*np.inf, *[np.mean(epsilon_discr_points[i:i+2]) for i in range(len(epsilon_discr_points)-1)], np.inf])\n",
    "    # SPF' - Gaussian\n",
    "    spf_dash_mu = 2.9\n",
    "    spf_dash_sigma = 0.167\n",
    "    spf_dash_discr_points = np.arange(2,4,discr_delta)\n",
    "    spf_dash_bins = np.array([-1*np.inf, *[np.mean(spf_dash_discr_points[i:i+2]) for i in range(len(spf_dash_discr_points)-1)], np.inf])\n",
    "\n",
    "    theta_matrix = np.vstack([\n",
    "        fast_discritise_samples(stats.truncnorm(-1*alpha_mu/alpha_sigma,(1-alpha_mu)/alpha_sigma,loc=alpha_mu,scale=alpha_sigma).rvs(n_samples),alpha_discr_points,alpha_bins), # alpha\n",
    "        fast_discritise_samples(stats.norm(loc=epsilon_mu,scale=epsilon_sigma).rvs(n_samples),epsilon_discr_points,epsilon_bins), # epsilon\n",
    "        fast_discritise_samples(stats.norm(loc=spf_dash_mu,scale=spf_dash_sigma).rvs(n_samples),spf_dash_discr_points,spf_dash_bins)\n",
    "    ])\n",
    "\n",
    "    return theta_matrix.T\n",
    "\n",
    "\n",
    "def prior_theta_and_partial_perfect_z_sampler(n_samples, perfect_info_params=None):\n",
    "    \"\"\"Sample thetas and zs for partial perfect information for specified parameters.\"\"\"\n",
    "\n",
    "    thetas = [t[:3] for t in prior_theta_sampler(n_samples)]\n",
    "\n",
    "    parameters = ['alpha', 'epsilon', 'spf_dash']\n",
    "    if perfect_info_params is None:\n",
    "        perfect_info_params = {param: False for param in parameters}\n",
    "    measure_params = np.array(list(perfect_info_params.values()),dtype=bool)\n",
    "\n",
    "    zs = [np.where(measure_params==True, t, np.nan) for t in thetas]\n",
    "\n",
    "    return thetas, zs\n",
    "\n",
    "def partial_perfect_info_theta_sampler(measurement, n_samples):\n",
    "    \"\"\"Sample thetas for case of partial perfect information with specified measurement.\"\"\"\n",
    "\n",
    "    thetas = [t[:3] for t in prior_theta_sampler(n_samples)]\n",
    "    thetas_with_perfect_info = [np.where(np.isnan(measurement), t, measurement) for t in thetas]\n",
    "\n",
    "    return thetas_with_perfect_info\n",
    "\n",
    "\n",
    "# 3. Define system dynamics (intermediate computations)\n",
    "@numba.njit(fastmath=True)\n",
    "def compute_beta(maint_freq, epsilon):\n",
    "    beta_a = 0.05\n",
    "    beta_b = 2.5\n",
    "    gamma = 1.4\n",
    "    return ((beta_a*maint_freq**gamma)/(beta_b+maint_freq**gamma))*(1+epsilon)\n",
    "\n",
    "@numba.njit(fastmath=True)\n",
    "def compute_spf(alpha, beta, spf_dash):\n",
    "    \"\"\"Compute seasonal performance factor.\"\"\"\n",
    "    return spf_dash*(1-alpha)*(1+beta)\n",
    "\n",
    "# 4. Define utility function\n",
    "@numba.njit(fastmath=True)\n",
    "def utility(maint_freq, theta):\n",
    "\n",
    "    # unpack theta\n",
    "    alpha = theta[0]\n",
    "    epsilon = theta[1]\n",
    "    spf_dash = theta[2]\n",
    "    elec_unit_cost = theta[3] # £/kWh\n",
    "    annual_load = theta[4] # kWh/year\n",
    "\n",
    "    # set up cost parameters\n",
    "    maint_unit_cost = 552.5*30 # £ per maintainence operation on 10 ASHPs (originally 4 for 1.75GWh/year)\n",
    "\n",
    "    # compute spf\n",
    "    beta = compute_beta(maint_freq, epsilon)\n",
    "    spf = compute_spf(alpha, beta, spf_dash)\n",
    "\n",
    "    # compute cost contributions\n",
    "    maintenance_cost = maint_unit_cost*maint_freq # £/year\n",
    "    electricity_cost = annual_load*elec_unit_cost/spf # £/year\n",
    "\n",
    "    return -1*(maintenance_cost+electricity_cost) # utility [+£/year]\n",
    "\n",
    "@numba.njit(fastmath=True)\n",
    "def simplified_utility(maint_freq, theta):\n",
    "    \"\"\"Utility function for simplified problem with deterministic\n",
    "    electricity price and heating load.\n",
    "    Use theta = [alpha, elec_unit, annual_load].\"\"\"\n",
    "\n",
    "    elec_unit_cost = 0.326\n",
    "    annual_load = 12560000\n",
    "\n",
    "    # unpack theta\n",
    "    alpha = theta[0]\n",
    "    epsilon = theta[1]\n",
    "    spf_dash = theta[2]\n",
    "\n",
    "    # set up cost parameters\n",
    "    maint_unit_cost = 552.5*30 # £ per maintainence operation on 10 ASHPs (originally 4 for 1.75GWh/year)\n",
    "\n",
    "    # compute spf\n",
    "    beta = compute_beta(maint_freq, epsilon)\n",
    "    spf = compute_spf(alpha, beta, spf_dash)\n",
    "\n",
    "    # compute cost contributions\n",
    "    maintenance_cost = maint_unit_cost*maint_freq # £/year\n",
    "    electricity_cost = annual_load*elec_unit_cost/spf # £/year\n",
    "\n",
    "    return -1*(maintenance_cost+electricity_cost) # utility [+£/year]"
   ]
  },
  {
   "cell_type": "code",
   "execution_count": 3,
   "metadata": {},
   "outputs": [
    {
     "ename": "IndexError",
     "evalue": "index 99 is out of bounds for axis 0 with size 99",
     "output_type": "error",
     "traceback": [
      "\u001b[1;31m---------------------------------------------------------------------------\u001b[0m",
      "\u001b[1;31mIndexError\u001b[0m                                Traceback (most recent call last)",
      "Cell \u001b[1;32mIn[3], line 1\u001b[0m\n\u001b[1;32m----> 1\u001b[0m thetas \u001b[38;5;241m=\u001b[39m \u001b[43msimplified_prior_theta_sampler\u001b[49m\u001b[43m(\u001b[49m\u001b[38;5;28;43mint\u001b[39;49m\u001b[43m(\u001b[49m\u001b[38;5;241;43m1e6\u001b[39;49m\u001b[43m)\u001b[49m\u001b[43m)\u001b[49m\n",
      "Cell \u001b[1;32mIn[2], line 76\u001b[0m, in \u001b[0;36msimplified_prior_theta_sampler\u001b[1;34m(n_samples)\u001b[0m\n\u001b[0;32m     72\u001b[0m spf_dash_discr_points \u001b[38;5;241m=\u001b[39m np\u001b[38;5;241m.\u001b[39marange(\u001b[38;5;241m2\u001b[39m,\u001b[38;5;241m4\u001b[39m,discr_delta)\n\u001b[0;32m     73\u001b[0m spf_dash_bins \u001b[38;5;241m=\u001b[39m np\u001b[38;5;241m.\u001b[39marray([\u001b[38;5;241m-\u001b[39m\u001b[38;5;241m1\u001b[39m\u001b[38;5;241m*\u001b[39mnp\u001b[38;5;241m.\u001b[39minf, \u001b[38;5;241m*\u001b[39m[np\u001b[38;5;241m.\u001b[39mmean(spf_dash_discr_points[i:i\u001b[38;5;241m+\u001b[39m\u001b[38;5;241m2\u001b[39m]) \u001b[38;5;28;01mfor\u001b[39;00m i \u001b[38;5;129;01min\u001b[39;00m \u001b[38;5;28mrange\u001b[39m(\u001b[38;5;28mlen\u001b[39m(spf_dash_discr_points)\u001b[38;5;241m-\u001b[39m\u001b[38;5;241m1\u001b[39m)], np\u001b[38;5;241m.\u001b[39minf])\n\u001b[0;32m     75\u001b[0m theta_matrix \u001b[38;5;241m=\u001b[39m np\u001b[38;5;241m.\u001b[39mvstack([\n\u001b[1;32m---> 76\u001b[0m     \u001b[43mfast_discritise_samples\u001b[49m\u001b[43m(\u001b[49m\u001b[43mstats\u001b[49m\u001b[38;5;241;43m.\u001b[39;49m\u001b[43mtruncnorm\u001b[49m\u001b[43m(\u001b[49m\u001b[38;5;241;43m-\u001b[39;49m\u001b[38;5;241;43m1\u001b[39;49m\u001b[38;5;241;43m*\u001b[39;49m\u001b[43malpha_mu\u001b[49m\u001b[38;5;241;43m/\u001b[39;49m\u001b[43malpha_sigma\u001b[49m\u001b[43m,\u001b[49m\u001b[43m(\u001b[49m\u001b[38;5;241;43m1\u001b[39;49m\u001b[38;5;241;43m-\u001b[39;49m\u001b[43malpha_mu\u001b[49m\u001b[43m)\u001b[49m\u001b[38;5;241;43m/\u001b[39;49m\u001b[43malpha_sigma\u001b[49m\u001b[43m,\u001b[49m\u001b[43mloc\u001b[49m\u001b[38;5;241;43m=\u001b[39;49m\u001b[43malpha_mu\u001b[49m\u001b[43m,\u001b[49m\u001b[43mscale\u001b[49m\u001b[38;5;241;43m=\u001b[39;49m\u001b[43malpha_sigma\u001b[49m\u001b[43m)\u001b[49m\u001b[38;5;241;43m.\u001b[39;49m\u001b[43mrvs\u001b[49m\u001b[43m(\u001b[49m\u001b[43mn_samples\u001b[49m\u001b[43m)\u001b[49m\u001b[43m,\u001b[49m\u001b[43malpha_discr_points\u001b[49m\u001b[43m,\u001b[49m\u001b[43malpha_bins\u001b[49m\u001b[43m)\u001b[49m, \u001b[38;5;66;03m# alpha\u001b[39;00m\n\u001b[0;32m     77\u001b[0m     fast_discritise_samples(stats\u001b[38;5;241m.\u001b[39mnorm(loc\u001b[38;5;241m=\u001b[39mepsilon_mu,scale\u001b[38;5;241m=\u001b[39mepsilon_sigma)\u001b[38;5;241m.\u001b[39mrvs(n_samples),epsilon_discr_points,epsilon_bins), \u001b[38;5;66;03m# epsilon\u001b[39;00m\n\u001b[0;32m     78\u001b[0m     fast_discritise_samples(stats\u001b[38;5;241m.\u001b[39mnorm(loc\u001b[38;5;241m=\u001b[39mspf_dash_mu,scale\u001b[38;5;241m=\u001b[39mspf_dash_sigma)\u001b[38;5;241m.\u001b[39mrvs(n_samples),spf_dash_discr_points,spf_dash_bins)\n\u001b[0;32m     79\u001b[0m ])\n\u001b[0;32m     81\u001b[0m \u001b[38;5;28;01mreturn\u001b[39;00m theta_matrix\u001b[38;5;241m.\u001b[39mT\n",
      "Cell \u001b[1;32mIn[2], line 12\u001b[0m, in \u001b[0;36mfast_discritise_samples\u001b[1;34m(samples, discr_points, bins)\u001b[0m\n\u001b[0;32m     11\u001b[0m \u001b[38;5;28;01mdef\u001b[39;00m \u001b[38;5;21mfast_discritise_samples\u001b[39m(samples, discr_points,bins):\n\u001b[1;32m---> 12\u001b[0m     \u001b[38;5;28;01mreturn\u001b[39;00m \u001b[43mdiscr_points\u001b[49m\u001b[43m[\u001b[49m\u001b[43mnp\u001b[49m\u001b[38;5;241;43m.\u001b[39;49m\u001b[43mdigitize\u001b[49m\u001b[43m(\u001b[49m\u001b[43msamples\u001b[49m\u001b[43m,\u001b[49m\u001b[43mbins\u001b[49m\u001b[43m)\u001b[49m\u001b[43m]\u001b[49m\n",
      "\u001b[1;31mIndexError\u001b[0m: index 99 is out of bounds for axis 0 with size 99"
     ]
    }
   ],
   "source": [
    "thetas = simplified_prior_theta_sampler(int(1e6))"
   ]
  },
  {
   "cell_type": "code",
   "execution_count": null,
   "metadata": {},
   "outputs": [
    {
     "name": "stdout",
     "output_type": "stream",
     "text": [
      "[[ 0.19 -0.05  2.8 ]\n",
      " [ 0.27  0.05  2.99]\n",
      " [ 0.22 -0.04  2.9 ]\n",
      " ...\n",
      " [ 0.12 -0.07  3.27]\n",
      " [ 0.18 -0.07  3.18]\n",
      " [ 0.43  0.02  3.02]]\n"
     ]
    }
   ],
   "source": [
    "print(thetas)"
   ]
  },
  {
   "cell_type": "code",
   "execution_count": null,
   "metadata": {},
   "outputs": [],
   "source": [
    "maint_freq = 2"
   ]
  },
  {
   "cell_type": "code",
   "execution_count": null,
   "metadata": {},
   "outputs": [
    {
     "name": "stderr",
     "output_type": "stream",
     "text": [
      "  0%|          | 0/1000000 [00:00<?, ?it/s]"
     ]
    },
    {
     "name": "stderr",
     "output_type": "stream",
     "text": [
      "100%|██████████| 1000000/1000000 [00:01<00:00, 687621.71it/s]\n"
     ]
    },
    {
     "data": {
      "text/plain": [
       "array([-1795522.93599828, -1859818.01628238, -1799754.86784107, ...,\n",
       "       -1422872.87374398, -1566769.62781319, -2351066.28328059])"
      ]
     },
     "execution_count": 5,
     "metadata": {},
     "output_type": "execute_result"
    }
   ],
   "source": [
    "np.array([simplified_utility(maint_freq, t) for t in tqdm(thetas)])"
   ]
  },
  {
   "cell_type": "code",
   "execution_count": null,
   "metadata": {},
   "outputs": [],
   "source": []
  }
 ],
 "metadata": {
  "kernelspec": {
   "display_name": "BE-VOI",
   "language": "python",
   "name": "python3"
  },
  "language_info": {
   "codemirror_mode": {
    "name": "ipython",
    "version": 3
   },
   "file_extension": ".py",
   "mimetype": "text/x-python",
   "name": "python",
   "nbconvert_exporter": "python",
   "pygments_lexer": "ipython3",
   "version": "3.8.18"
  }
 },
 "nbformat": 4,
 "nbformat_minor": 2
}
